{
 "cells": [
  {
   "cell_type": "code",
   "execution_count": 1,
   "metadata": {
    "slideshow": {
     "slide_type": "skip"
    }
   },
   "outputs": [],
   "source": [
    "import warnings\n",
    "warnings.filterwarnings('ignore') # disable warnings (don't do this for normal work!)\n",
    "\n",
    "%matplotlib inline\n",
    "import matplotlib"
   ]
  },
  {
   "cell_type": "markdown",
   "metadata": {
    "slideshow": {
     "slide_type": "skip"
    }
   },
   "source": [
    "Vor Ausführung dieses Notebooks muss die *CoolProp* Bibliothek installiert werden. Wie dies geht, kann im [Notebook Package_install](Package_install.ipynb) nachgelesen werden."
   ]
  },
  {
   "cell_type": "markdown",
   "metadata": {
    "slideshow": {
     "slide_type": "slide"
    }
   },
   "source": [
    "# Einführungskurs\n",
    "\n",
    "<br>\n",
    "\n",
    "## Python und Jupyter Notebook\n",
    "## als Engineering-Tool \n",
    "\n",
    "<br>\n",
    "Sebastian Pinnau\n",
    "\n",
    "\n",
    "<br>\n",
    "<small>Wintersemester 2020/21</small>"
   ]
  },
  {
   "cell_type": "markdown",
   "metadata": {
    "slideshow": {
     "slide_type": "slide"
    }
   },
   "source": [
    "### Inhalt\n",
    "\n",
    "Python, Jupyter und SciPy Stack\n",
    "\n",
    "Cloud-Dienst oder Installation\n",
    "\n",
    "Datentypen, Funktionen und Bibliotheken in Python\n",
    "\n",
    "Anwendungsbeispiele"
   ]
  },
  {
   "cell_type": "markdown",
   "metadata": {
    "slideshow": {
     "slide_type": "slide"
    }
   },
   "source": [
    "### Was ist Python?\n",
    "\n",
    "* Universelle, höhere Programmiersprache\n",
    "* Plattformunabhängig and open-source\n",
    "* Dynamische Typisierung\n",
    "* Funktionale und objektorientierte Programmierung\n",
    "\n",
    "<img src=\"http://upload.wikimedia.org/wikipedia/commons/f/f8/Python_logo_and_wordmark.svg\" width=250px>"
   ]
  },
  {
   "cell_type": "markdown",
   "metadata": {
    "slideshow": {
     "slide_type": "slide"
    }
   },
   "source": [
    "### Jupyter Notebook\n",
    "\n",
    "* Arbeitsumgebung für Programmierung und Dokumentation\n",
    "  - Berechnungen, Datenauswertung, ...\n",
    "  - Vorbereitung und Schreiben von Veröffentlichungen\n",
    "* Zellenbasierte Notebooks\n",
    "  - Rich-Text Formatierung (Markdown), Formeln, Grafiken\n",
    "  - Code-Zellen (syntax highlighting, code completion)\n",
    "\n",
    "<img src=\"https://jupyter.org/assets/nav_logo.svg\" width=250px>"
   ]
  },
  {
   "cell_type": "markdown",
   "metadata": {
    "slideshow": {
     "slide_type": "slide"
    }
   },
   "source": [
    "### Jupyter Notebook\n",
    "\n",
    "* Hinweise\n",
    "  - Interaktiver Python-Interpreter\n",
    "  - Variablen bleiben im Speicher\n",
    "  - bei Ausführung von Zellen \"weiter oben\" beachten\n",
    "  - ggf. alle Zellen von oben neu ausführen\n",
    "\n",
    "    \n",
    "* wichtige Shortcuts\n",
    "  - Editier-Modus mit *Enter*\n",
    "  - Zelle ausführen mit *Shift+Enter*\n",
    "  - Code completion mit *Tab*\n",
    "  - Tooltip mit *Shift+Tab* (in Funktionsaufrufen)"
   ]
  },
  {
   "cell_type": "markdown",
   "metadata": {
    "slideshow": {
     "slide_type": "slide"
    }
   },
   "source": [
    "### SciPy Stack und weitere Bibliotheken\n",
    "\n",
    "\n",
    "* Vielzahl wissenschaftlicher open-source Bibliotheken\n",
    "\n",
    "* SciPy Stack\n",
    "  - NumPy (numerisches Rechnen mit Matritzen)\n",
    "  - SciPy (Gleichungslöser, Signalbearbeitung, ...)\n",
    "  - matplotlib (publikationsreife Diagramme)\n",
    "  - Jupyter notebook / IPython (interaktive Umgebung)\n",
    "  - SymPy (Computer-Algebra-System)\n",
    "  - pandas (Datenbearbeitung und Analyse)"
   ]
  },
  {
   "cell_type": "markdown",
   "metadata": {
    "slideshow": {
     "slide_type": "slide"
    }
   },
   "source": [
    "### SciPy Stack und weitere Bibliotheken\n",
    "\n",
    "* Auswahl weiterer Bibliotheken\n",
    "  - CoolProp (Stoffdaten für 122 Substanzen und Gemische)\n",
    "  - cantera (chemische Reaktionen)\n",
    "  - FiPy (Finite Volumen PDE Solver) \n",
    "\n",
    "\n",
    "* breite Nutzerbasis und gute Dokumentation\n",
    "* freie Alternative zu MATLAB<sup>®</sup>"
   ]
  },
  {
   "cell_type": "markdown",
   "metadata": {
    "slideshow": {
     "slide_type": "slide"
    }
   },
   "source": [
    "### Cloud-Dienste\n",
    "\n",
    "* Berechnungen erfolgen auf dem Server\n",
    "* auch mit Android und iOS nutzbar\n",
    "\n",
    "\n",
    "* Google Colaboratory https://colab.research.google.com\n",
    " - kostenfrei nutzbar mit Google-Konto\n",
    " \n",
    "* binder https://mybinder.org\n",
    " - Plattform zum Zugriff auf Notebooks in Github Repository\n",
    " \n",
    "* Ausprobieren ohne Anmeldung\n",
    " - Jupyter Test Server https://jupyter.org/try\n",
    " - Microsoft Azure Machine Learning Studio https://studio.azureml.net"
   ]
  },
  {
   "cell_type": "markdown",
   "metadata": {
    "slideshow": {
     "slide_type": "slide"
    }
   },
   "source": [
    "### Lokale Installation\n",
    "\n",
    "* [Anaconda Individual Edition](https://www.anaconda.com/products/individual) für Win/Linux/Mac\n",
    " - Distribution mit Bibliotheken (all-in-one)\n",
    " - conda Paketmanager für Installation weiterer Bibliotheken\n",
    " \n",
    "* Alternativ Installation aller einzelnen Bibliotheken\n",
    " - Python, numpy, scipy, jupyter, ...\n",
    " - unter Linux bequem mit Paketmanager"
   ]
  },
  {
   "cell_type": "markdown",
   "metadata": {
    "slideshow": {
     "slide_type": "slide"
    }
   },
   "source": [
    "### Kurzeinführung in Python\n",
    "#### Grundlegende Datentypen und Variablendeklaration\n",
    "\n",
    "* dynamische (automatische) Typisierung abhängig vom zugewiesenen Wert"
   ]
  },
  {
   "cell_type": "code",
   "execution_count": 2,
   "metadata": {
    "slideshow": {
     "slide_type": "-"
    }
   },
   "outputs": [],
   "source": [
    "a = 5                # int   - Ganzahl\n",
    "b = 2.0              # float - Gleitkommazahl\n",
    "s = 'bla'            # str   - Text/String\n",
    "x = True             # bool  - Wahrheitswert True/False\n",
    "L = [1, 2]           # list  - Listen mit Werten anderer Typen\n",
    "D = {'x': 1, 'y': 2} # dict  - Dictionary (key/value pairs) "
   ]
  },
  {
   "cell_type": "markdown",
   "metadata": {
    "slideshow": {
     "slide_type": "slide"
    }
   },
   "source": [
    "### Kurzeinführung in Python\n",
    "#### Operatoren\n",
    "\n",
    "*Hinweis: Unterschiede bei Division zwischen Python 2 und Python 3 beachten*"
   ]
  },
  {
   "cell_type": "code",
   "execution_count": 3,
   "metadata": {
    "scrolled": true,
    "slideshow": {
     "slide_type": "-"
    }
   },
   "outputs": [
    {
     "data": {
      "text/plain": [
       "2.5"
      ]
     },
     "execution_count": 3,
     "metadata": {},
     "output_type": "execute_result"
    }
   ],
   "source": [
    "5 / 2    # Rechenoperatoren ( +  -  *  /  // )"
   ]
  },
  {
   "cell_type": "code",
   "execution_count": 4,
   "metadata": {
    "slideshow": {
     "slide_type": "-"
    }
   },
   "outputs": [
    {
     "data": {
      "text/plain": [
       "2"
      ]
     },
     "execution_count": 4,
     "metadata": {},
     "output_type": "execute_result"
    }
   ],
   "source": [
    "5 // 2  # ganzzahlige Division "
   ]
  },
  {
   "cell_type": "code",
   "execution_count": 5,
   "metadata": {
    "slideshow": {
     "slide_type": "-"
    }
   },
   "outputs": [
    {
     "data": {
      "text/plain": [
       "4"
      ]
     },
     "execution_count": 5,
     "metadata": {},
     "output_type": "execute_result"
    }
   ],
   "source": [
    "2 ** 2   # Potenz"
   ]
  },
  {
   "cell_type": "code",
   "execution_count": 6,
   "metadata": {
    "slideshow": {
     "slide_type": "-"
    }
   },
   "outputs": [
    {
     "data": {
      "text/plain": [
       "True"
      ]
     },
     "execution_count": 6,
     "metadata": {},
     "output_type": "execute_result"
    }
   ],
   "source": [
    "5 <= 7   # Wertevergleich (==  <=  >=  !=)"
   ]
  },
  {
   "cell_type": "markdown",
   "metadata": {
    "slideshow": {
     "slide_type": "slide"
    }
   },
   "source": [
    "### Kurzeinführung in Python\n",
    "#### Import von Packages\n",
    "\n",
    "* Funktionen und Klassen sind in Packages strukturiert\n",
    "* Packages müssen vor Nutzung importiert werden\n",
    "* `as` Schlüsselwort für kurze Alias-Namen\n",
    "* Zugriff auf verschachtelte Elemente mit `.` Operator"
   ]
  },
  {
   "cell_type": "code",
   "execution_count": 7,
   "metadata": {
    "slideshow": {
     "slide_type": "-"
    }
   },
   "outputs": [
    {
     "data": {
      "text/plain": [
       "array([0, 1, 2, 3, 4])"
      ]
     },
     "execution_count": 7,
     "metadata": {},
     "output_type": "execute_result"
    }
   ],
   "source": [
    "import numpy as np\n",
    "import scipy as sp\n",
    "import scipy.optimize\n",
    "import pandas as pd\n",
    "\n",
    "np.arange(0, 5)"
   ]
  },
  {
   "cell_type": "markdown",
   "metadata": {
    "slideshow": {
     "slide_type": "slide"
    }
   },
   "source": [
    "### Kurzeinführung in Python\n",
    "#### Arbeiten mit Vektoren und Matritzen\n",
    "\n",
    "* `numpy` Bibliothek\n",
    "* Zugriff auf einzelne Werte über Index mit `[]`\n",
    "* Indizierung beginnt in Python mit Null\n",
    "* Rechenoperatoren `(+  -  *  /  **)` elementweise"
   ]
  },
  {
   "cell_type": "code",
   "execution_count": 8,
   "metadata": {
    "slideshow": {
     "slide_type": "-"
    }
   },
   "outputs": [
    {
     "data": {
      "text/plain": [
       "array([0, 1, 2, 3, 4])"
      ]
     },
     "execution_count": 8,
     "metadata": {},
     "output_type": "execute_result"
    }
   ],
   "source": [
    "x = np.arange(0, 5)  # Erstellung eines Vektors\n",
    "x"
   ]
  },
  {
   "cell_type": "code",
   "execution_count": 9,
   "metadata": {
    "slideshow": {
     "slide_type": "-"
    }
   },
   "outputs": [
    {
     "data": {
      "text/plain": [
       "1"
      ]
     },
     "execution_count": 9,
     "metadata": {},
     "output_type": "execute_result"
    }
   ],
   "source": [
    "x[1]  # Zugriff auf Element an Position 1"
   ]
  },
  {
   "cell_type": "code",
   "execution_count": 10,
   "metadata": {
    "slideshow": {
     "slide_type": "-"
    }
   },
   "outputs": [
    {
     "data": {
      "text/plain": [
       "array([0, 2, 4, 6, 8])"
      ]
     },
     "execution_count": 10,
     "metadata": {},
     "output_type": "execute_result"
    }
   ],
   "source": [
    "x * 2  # elementweise Multiplikation"
   ]
  },
  {
   "cell_type": "markdown",
   "metadata": {
    "slideshow": {
     "slide_type": "slide"
    }
   },
   "source": [
    "### Kurzeinführung in Python\n",
    "#### Deklaration und Nutzung von Funktionen\n",
    "\n",
    "* `def` Schlüsselwort für Funktionsdeklaration\n",
    "* Abgrenzung von Blöcken  mit Einrückung\n",
    "* `return` Schlüsselwort definiert Rückgabewert\n",
    "* Aufruf von Funktionen mit Parametern in `()`"
   ]
  },
  {
   "cell_type": "code",
   "execution_count": 11,
   "metadata": {
    "slideshow": {
     "slide_type": "-"
    }
   },
   "outputs": [],
   "source": [
    "def multiply(a, b):\n",
    "    \"\"\" Returns the product of two numbers \"\"\"\n",
    "    \n",
    "    return a * b"
   ]
  },
  {
   "cell_type": "code",
   "execution_count": 12,
   "metadata": {
    "slideshow": {
     "slide_type": "-"
    }
   },
   "outputs": [
    {
     "data": {
      "text/plain": [
       "10"
      ]
     },
     "execution_count": 12,
     "metadata": {},
     "output_type": "execute_result"
    }
   ],
   "source": [
    "multiply(2, 5)   # Funktionsaufruf"
   ]
  },
  {
   "cell_type": "markdown",
   "metadata": {
    "slideshow": {
     "slide_type": "slide"
    }
   },
   "source": [
    "### Kurzeinführung in Python\n",
    "#### Schleifen\n",
    "\n",
    "* `for`-Schleife für wiederholte Ausführungen"
   ]
  },
  {
   "cell_type": "code",
   "execution_count": 13,
   "metadata": {
    "slideshow": {
     "slide_type": "-"
    }
   },
   "outputs": [
    {
     "name": "stdout",
     "output_type": "stream",
     "text": [
      "1\n",
      "2\n",
      "3\n"
     ]
    }
   ],
   "source": [
    "for i in [1, 2, 3]: # Iteration über alle Element der Liste\n",
    "    print(i)        # hier Nutzung der print-Funktion zur Ausgabe"
   ]
  },
  {
   "cell_type": "code",
   "execution_count": 14,
   "metadata": {
    "slideshow": {
     "slide_type": "-"
    }
   },
   "outputs": [
    {
     "name": "stdout",
     "output_type": "stream",
     "text": [
      "1\n",
      "2\n",
      "3\n"
     ]
    }
   ],
   "source": [
    "for i in np.arange(1, 4): # automatisch generierter Vektor\n",
    "    print(i)        "
   ]
  },
  {
   "cell_type": "markdown",
   "metadata": {
    "slideshow": {
     "slide_type": "slide"
    }
   },
   "source": [
    "### Anwendungsbeispiele\n",
    "#### Erstellen von Diagrammen\n",
    "\n",
    "* Erstellung publikationsreifer Diagramme mit *matplotlib*\n",
    "* *pyplot:* einfaches funktionsbasiertes Interface\n",
    "* Export als PDF, SVG, PNG, ... möglich"
   ]
  },
  {
   "cell_type": "code",
   "execution_count": 15,
   "metadata": {
    "scrolled": true,
    "slideshow": {
     "slide_type": "-"
    }
   },
   "outputs": [
    {
     "data": {
      "image/png": "[encoded data removed]",
      "text/plain": [
       "<Figure size 432x288 with 1 Axes>"
      ]
     },
     "metadata": {
      "needs_background": "light"
     },
     "output_type": "display_data"
    }
   ],
   "source": [
    "from matplotlib import pyplot as plt\n",
    "\n",
    "x = np.linspace(0, 2*np.pi, 100) # x-Vektor(von, bis, Anzahl Schritte)\n",
    "y = np.sin(x)                    # sin-Funktion elementweise für alle x\n",
    "\n",
    "plt.plot(x, y)\n",
    "plt.grid()"
   ]
  },
  {
   "cell_type": "markdown",
   "metadata": {
    "slideshow": {
     "slide_type": "slide"
    }
   },
   "source": [
    "### Anwendungsbeispiele\n",
    "#### Stoffdaten \n",
    "\n",
    "* CoolProp mit Daten für viele Stoffe (H<sub>2</sub>O, NH<sub>3</sub>, R134a, ...)  \n",
    "* High-level Interface mit einfach zu nutzenden Funktionen\n",
    "* [Parameter (in SI-Einheiten)](http://www.coolprop.org/coolprop/HighLevelAPI.html#table-of-string-inputs-to-propssi-function)\n",
    "\n",
    "  <small>T - Temperatur / P - Druck / H - spezifische Enthalpy / D - Dichte / Q - Dampfmassenanteil (Quality) </small>"
   ]
  },
  {
   "cell_type": "code",
   "execution_count": 16,
   "metadata": {
    "slideshow": {
     "slide_type": "-"
    }
   },
   "outputs": [
    {
     "name": "stdout",
     "output_type": "stream",
     "text": [
      "2537433.404372583 8665.984477847074\n"
     ]
    }
   ],
   "source": [
    "from CoolProp.CoolProp import PropsSI, PhaseSI\n",
    "\n",
    "h1 = PropsSI('H', 'T', 293.15, 'Q', 1.0, 'Water')\n",
    "s1 = PropsSI('S', 'T', 293.15, 'Q', 1.0, 'Water')\n",
    "\n",
    "print(h1, s1)"
   ]
  },
  {
   "cell_type": "code",
   "execution_count": 17,
   "metadata": {},
   "outputs": [
    {
     "data": {
      "text/plain": [
       "'twophase'"
      ]
     },
     "execution_count": 17,
     "metadata": {},
     "output_type": "execute_result"
    }
   ],
   "source": [
    "PhaseSI('T', 293.15, 'Q', 1.0, 'Water')"
   ]
  },
  {
   "cell_type": "markdown",
   "metadata": {
    "slideshow": {
     "slide_type": "slide"
    }
   },
   "source": [
    "### Anwendungsbeispiele\n",
    "#### Stoffdaten \n",
    "\n",
    "* Alternativ objektorientiertes Low-level Interface\n",
    "* Zugriff auf mehr Daten möglich (z.B. partielle Ableitungen)\n",
    "* *Zustandsobjekt* enthält alle Stoffdaten für definierten Zustand"
   ]
  },
  {
   "cell_type": "code",
   "execution_count": 18,
   "metadata": {
    "slideshow": {
     "slide_type": "-"
    }
   },
   "outputs": [
    {
     "name": "stdout",
     "output_type": "stream",
     "text": [
      "2537433.404372583 8665.984477847074\n"
     ]
    }
   ],
   "source": [
    "import CoolProp as CP\n",
    "from CoolProp.CoolProp import AbstractState\n",
    "\n",
    "Z1 = AbstractState('HEOS', 'Water')   # Zustandsobjekt\n",
    "Z1.update(CP.QT_INPUTS, 1.0, 293.15)  # Festlegung Zustandspunkt\n",
    "\n",
    "print(Z1.hmass(), Z1.smass())"
   ]
  },
  {
   "cell_type": "markdown",
   "metadata": {
    "slideshow": {
     "slide_type": "slide"
    }
   },
   "source": [
    "### Anwendungsbeispiele\n",
    "#### Dampfturbine\n",
    "\n",
    "In einer Turbine mit einem Gütegrad von $\\eta = 0,8$ wird ein Dampfmassenstrom $\\dot m = 100\\,\\mathrm{kg/s}$ mit einer Temperatur $T_1 = 500\\,\\mathrm{°C}$ und einem Druck von $p_1 = 15\\,\\mathrm{MPa}$ bis auf einen Kondensationsdruck von $p_2 = 10\\,\\mathrm{kPa}$ entspannt. Wie groß ist die abgegebene mechanische Leistung $P_{12}$?\n",
    "\n",
    "Dazu werden zuerst alle gegebenen Größen als Variablen deklariert."
   ]
  },
  {
   "cell_type": "code",
   "execution_count": 19,
   "metadata": {
    "slideshow": {
     "slide_type": "-"
    }
   },
   "outputs": [],
   "source": [
    "T1 = 500 + 273.15 # K\n",
    "p1 = 15e6         # Pa\n",
    "p2 = 10e3         # Pa\n",
    "m = 100.0         # kg/s\n",
    "eta = 0.8\n",
    "\n",
    "fluid = 'water'"
   ]
  },
  {
   "cell_type": "markdown",
   "metadata": {
    "slideshow": {
     "slide_type": "slide"
    }
   },
   "source": [
    "### Anwendungsbeispiele\n",
    "#### Dampfturbine\n",
    "\n",
    "Die Leistung $P_{12}$ ergibt sich unter Vernachlässigung der kinetischen und potentiellen Energien aus\n",
    "\n",
    "$$P_{12} = \\dot m~(h_2 - h_1)\\,.$$\n",
    "\n",
    "Zur Lösung sind die spezifischen Enthalpien $h_1$ und $h_2$ zu berechnen. Der Zustand am Eintritt ist aus den gegebenen Größen bereits eindeutig festgelegt. Am Austritt muss zunächst $h_{2,rev}$ für den isentropen Vergleichsprozess mit $s_{2,rev} = s_1$ bestimmt werden."
   ]
  },
  {
   "cell_type": "code",
   "execution_count": 20,
   "metadata": {
    "slideshow": {
     "slide_type": "-"
    }
   },
   "outputs": [
    {
     "data": {
      "text/plain": [
       "'supercritical_gas'"
      ]
     },
     "execution_count": 20,
     "metadata": {},
     "output_type": "execute_result"
    }
   ],
   "source": [
    "h1 = PropsSI('H', 'T', T1, 'P', p1, fluid)\n",
    "s1 = s2rev = PropsSI('S', 'T', T1, 'P', p1, fluid)\n",
    "\n",
    "h2rev = PropsSI('H', 'S', s2rev, 'P', p2, fluid)\n",
    "\n",
    "PhaseSI('T', T1, 'P', p1, fluid)"
   ]
  },
  {
   "cell_type": "markdown",
   "metadata": {
    "slideshow": {
     "slide_type": "slide"
    }
   },
   "source": [
    "### Anwendungsbeispiele\n",
    "#### Dampfturbine\n",
    "\n",
    "Für den realen Turbinenaustritt ergibt sich $h_2$ anschließend aus der Definition des Gütegrades. Damit kann dann mit dem 1. HS die Leistung berechnet werden.\n",
    "\n",
    "$$\\eta_{g,E} = \\frac{h_2 - h_1}{h_{2,rev} - h_1}$$"
   ]
  },
  {
   "cell_type": "code",
   "execution_count": 21,
   "metadata": {
    "slideshow": {
     "slide_type": "-"
    }
   },
   "outputs": [
    {
     "name": "stdout",
     "output_type": "stream",
     "text": [
      "P12 = -104.105 MW\n"
     ]
    }
   ],
   "source": [
    "h2 = eta * (h2rev - h1) + h1\n",
    "s2 = PropsSI('S', 'H', h2, 'P', p2, fluid)\n",
    "\n",
    "P = m * (h2 - h1)                # in W (SI-Einheiten!)\n",
    "print(f'P12 = {P/1e6:1.3f} MW')  # Formatierung/Umrechnung in MW"
   ]
  },
  {
   "cell_type": "markdown",
   "metadata": {
    "slideshow": {
     "slide_type": "slide"
    }
   },
   "source": [
    "### Anwendungsbeispiele\n",
    "#### Dampfturbine\n",
    "\n",
    "Grafische Darstellung des Prozesses im p-s-Diagramm. *CoolProp* bietet dazu ein Plots-Package."
   ]
  },
  {
   "cell_type": "code",
   "execution_count": 22,
   "metadata": {
    "slideshow": {
     "slide_type": "-"
    }
   },
   "outputs": [
    {
     "data": {
      "image/png": "[encoded data removed]",
      "text/plain": [
       "<Figure size 432x288 with 1 Axes>"
      ]
     },
     "metadata": {
      "needs_background": "light"
     },
     "output_type": "display_data"
    }
   ],
   "source": [
    "from CoolProp.Plots import PropertyPlot\n",
    "\n",
    "plot = PropertyPlot('water', 'ps', unit_system='SI')\n",
    "plot.calc_isolines(CP.iQ, num=6)\n",
    "\n",
    "plot.axis.plot([s1, s2rev], [p1, p2])  # Linie Anfangs- bis Endpunkt\n",
    "plot.axis.plot([s1, s2], [p1, p2])\n",
    "\n",
    "plot.show()"
   ]
  },
  {
   "cell_type": "markdown",
   "metadata": {
    "slideshow": {
     "slide_type": "slide"
    }
   },
   "source": [
    "### Anwendungsbeispiele\n",
    "#### Import und Analyse von (Mess-) Daten\n",
    "\n",
    "* CO<sub>2</sub>-Emissionsdaten fossile Brennstoffe (Quelle: CDIAC)\n",
    "* Werte in Kilotonnen Kohlenstoff (CO<sub>2</sub> mit Faktor 3,667)"
   ]
  },
  {
   "cell_type": "code",
   "execution_count": 23,
   "metadata": {
    "slideshow": {
     "slide_type": "-"
    }
   },
   "outputs": [],
   "source": [
    "%%capture\n",
    "!curl https://raw.githubusercontent.com/openclimatedata/cdiac-co2-fossil-national/master/data/cdiac-fossil-fuel-cement-national.csv -o co2.csv"
   ]
  },
  {
   "cell_type": "code",
   "execution_count": 24,
   "metadata": {
    "slideshow": {
     "slide_type": "-"
    }
   },
   "outputs": [
    {
     "data": {
      "text/html": [
       "<div>\n",
       "<style scoped>\n",
       "    .dataframe tbody tr th:only-of-type {\n",
       "        vertical-align: middle;\n",
       "    }\n",
       "\n",
       "    .dataframe tbody tr th {\n",
       "        vertical-align: top;\n",
       "    }\n",
       "\n",
       "    .dataframe thead th {\n",
       "        text-align: right;\n",
       "    }\n",
       "</style>\n",
       "<table border=\"1\" class=\"dataframe\">\n",
       "  <thead>\n",
       "    <tr style=\"text-align: right;\">\n",
       "      <th></th>\n",
       "      <th>Year</th>\n",
       "      <th>Total</th>\n",
       "      <th>Solid-Fuel</th>\n",
       "      <th>Liquid-Fuel</th>\n",
       "      <th>Gas-Fuel</th>\n",
       "      <th>Cement</th>\n",
       "      <th>Gas-Flaring</th>\n",
       "      <th>Per-Capita</th>\n",
       "      <th>Bunkers</th>\n",
       "    </tr>\n",
       "    <tr>\n",
       "      <th>Nation</th>\n",
       "      <th></th>\n",
       "      <th></th>\n",
       "      <th></th>\n",
       "      <th></th>\n",
       "      <th></th>\n",
       "      <th></th>\n",
       "      <th></th>\n",
       "      <th></th>\n",
       "      <th></th>\n",
       "    </tr>\n",
       "  </thead>\n",
       "  <tbody>\n",
       "    <tr>\n",
       "      <th>AFGHANISTAN</th>\n",
       "      <td>1949</td>\n",
       "      <td>4</td>\n",
       "      <td>4.0</td>\n",
       "      <td>0.0</td>\n",
       "      <td>0.0</td>\n",
       "      <td>0</td>\n",
       "      <td>NaN</td>\n",
       "      <td>NaN</td>\n",
       "      <td>0</td>\n",
       "    </tr>\n",
       "    <tr>\n",
       "      <th>AFGHANISTAN</th>\n",
       "      <td>1950</td>\n",
       "      <td>23</td>\n",
       "      <td>6.0</td>\n",
       "      <td>18.0</td>\n",
       "      <td>0.0</td>\n",
       "      <td>0</td>\n",
       "      <td>0.0</td>\n",
       "      <td>0.0</td>\n",
       "      <td>0</td>\n",
       "    </tr>\n",
       "  </tbody>\n",
       "</table>\n",
       "</div>"
      ],
      "text/plain": [
       "             Year  Total  Solid-Fuel  Liquid-Fuel  Gas-Fuel  Cement  \\\n",
       "Nation                                                                \n",
       "AFGHANISTAN  1949      4         4.0          0.0       0.0       0   \n",
       "AFGHANISTAN  1950     23         6.0         18.0       0.0       0   \n",
       "\n",
       "             Gas-Flaring  Per-Capita  Bunkers  \n",
       "Nation                                         \n",
       "AFGHANISTAN          NaN         NaN        0  \n",
       "AFGHANISTAN          0.0         0.0        0  "
      ]
     },
     "execution_count": 24,
     "metadata": {},
     "output_type": "execute_result"
    }
   ],
   "source": [
    "df = pd.read_csv('co2.csv', index_col=0)\n",
    "df[0:2]  # Ausschnitt --> Zeilen 0 bis 1"
   ]
  },
  {
   "cell_type": "code",
   "execution_count": 25,
   "metadata": {
    "slideshow": {
     "slide_type": "-"
    }
   },
   "outputs": [
    {
     "data": {
      "text/plain": [
       "390944446"
      ]
     },
     "execution_count": 25,
     "metadata": {},
     "output_type": "execute_result"
    }
   ],
   "source": [
    "df['Total'].sum()  # Zugriff auf Spalte \"Total und Berechnung Spaltensumme"
   ]
  },
  {
   "cell_type": "markdown",
   "metadata": {
    "slideshow": {
     "slide_type": "slide"
    }
   },
   "source": [
    "### Anwendungsbeispiele\n",
    "#### Import und Analyse von (Mess-) Daten\n",
    "\n",
    "* Sehr einfache grafische Darstellung der importieren Daten"
   ]
  },
  {
   "cell_type": "code",
   "execution_count": 26,
   "metadata": {
    "slideshow": {
     "slide_type": "-"
    }
   },
   "outputs": [
    {
     "data": {
      "image/png": "[encoded data removed]",
      "text/plain": [
       "<Figure size 432x288 with 1 Axes>"
      ]
     },
     "metadata": {
      "needs_background": "light"
     },
     "output_type": "display_data"
    }
   ],
   "source": [
    "df1 = df.loc['UNITED STATES OF AMERICA']\n",
    "df2 = df.loc['CHINA (MAINLAND)']\n",
    "plt.plot(df1['Year'], df1['Total'], label='USA')\n",
    "plt.plot(df2['Year'], df2['Total'], label='China')\n",
    "plt.legend(loc='best'); plt.grid()"
   ]
  },
  {
   "cell_type": "markdown",
   "metadata": {
    "slideshow": {
     "slide_type": "slide"
    }
   },
   "source": [
    "### Anwendungsbeispiele\n",
    "#### Parameteranpassung an Modell\n",
    "\n",
    "* SciPy `curve_fit` erlaubt frei definierbare Funktion"
   ]
  },
  {
   "cell_type": "code",
   "execution_count": 27,
   "metadata": {
    "slideshow": {
     "slide_type": "-"
    }
   },
   "outputs": [
    {
     "data": {
      "image/png": "[encoded data removed]",
      "text/plain": [
       "<Figure size 432x288 with 1 Axes>"
      ]
     },
     "metadata": {
      "needs_background": "light"
     },
     "output_type": "display_data"
    }
   ],
   "source": [
    "def exp_fit(x, a, b, c):\n",
    "    return a * np.exp(b * (x-c))\n",
    "\n",
    "x = df.loc['CHINA (MAINLAND)', 'Year'] \n",
    "y = df.loc['CHINA (MAINLAND)', 'Total']\n",
    "popt, pcov = sp.optimize.curve_fit(exp_fit, x, y, p0=(1, 1e-8, 2e3),\n",
    "                                   method='trf')\n",
    "\n",
    "plt.plot(x, y); plt.grid()\n",
    "plt.plot(x, exp_fit(x, *popt), color='red');"
   ]
  },
  {
   "cell_type": "markdown",
   "metadata": {
    "slideshow": {
     "slide_type": "slide"
    }
   },
   "source": [
    "### Anwendungsbeispiele\n",
    "#### ODE Solver\n",
    "\n",
    "* 1D Wärmeleitung in finitem isolierten Stab mit Länge $L$ and Temperaturleitkoeffizient $a$\n",
    "  $$\\frac{\\partial T}{\\partial t} = a \\frac{\\partial^2 T}{\\partial x^2}$$\n",
    "* Anfangsbedingung\n",
    "  $$T(x, t=0) = 350$$\n",
    "* Randbedingungen\n",
    "  $$T(x=0, t>0) = 290$$\n",
    "  $$T(x=L, t>0) = 290$$"
   ]
  },
  {
   "cell_type": "markdown",
   "metadata": {
    "slideshow": {
     "slide_type": "slide"
    }
   },
   "source": [
    "### Anwendungsbeispiele\n",
    "#### ODE Solver\n",
    "\n",
    "* `scipy.integrate.odeint` löst ODE's $\\quad\\frac{\\mathrm{d}y}{\\mathrm{d}t} = f(y, t, ...)$\n",
    "* Räumliche Ableitungen müssen diskretisiert werden\n",
    "  - Üblicherweise mit mittlerem Differenzenquotienten \n",
    "  - dafür kann `numpy.gradient` genutzt werden"
   ]
  },
  {
   "cell_type": "code",
   "execution_count": 28,
   "metadata": {
    "slideshow": {
     "slide_type": "-"
    }
   },
   "outputs": [],
   "source": [
    "def dTdt(T, t, x, a):\n",
    "    \"\"\" Rechte Seite der PDGL \"\"\"\n",
    "    \n",
    "    dx = x[1] - x[0]  # x-Schrittweite aus x-Vektor berechnen\n",
    "        \n",
    "    if t > 0:\n",
    "        T[0] = 290    # linke RB\n",
    "        T[-1] = 290   # rechte RB\n",
    "    \n",
    "    dTdx = np.gradient(T, dx)      # 1. Ableitung\n",
    "    dT2dx = np.gradient(dTdx, dx)  # 2. Ableitung\n",
    "    return a * dT2dx"
   ]
  },
  {
   "cell_type": "markdown",
   "metadata": {
    "slideshow": {
     "slide_type": "slide"
    }
   },
   "source": [
    "### Anwendungsbeispiele\n",
    "#### ODE Solver"
   ]
  },
  {
   "cell_type": "code",
   "execution_count": 29,
   "metadata": {
    "slideshow": {
     "slide_type": "-"
    }
   },
   "outputs": [
    {
     "data": {
      "image/png": "[encoded data removed]",
      "text/plain": [
       "<Figure size 432x288 with 1 Axes>"
      ]
     },
     "metadata": {
      "needs_background": "light"
     },
     "output_type": "display_data"
    }
   ],
   "source": [
    "import scipy.integrate\n",
    "\n",
    "x = np.linspace(0, 1, 100)    # Gitter x=0 bis x=L=1\n",
    "t = np.linspace(0, 100, 101)  # Zeitvektor 0 bis 100 s\n",
    "T0 = np.zeros(len(x)) + 350   # Starttemperatur (Anfangswerte)\n",
    "a = 0.001                     # Temperaturleitkoeffizient\n",
    "\n",
    "soln = sp.integrate.odeint(dTdt, T0, t, args=(x, a))\n",
    "\n",
    "for i in range(0, len(soln), 20):\n",
    "    plt.plot(x, soln[i], label=\"{0:1.1f} s\".format(t[i]))\n",
    "plt.legend(loc='best', ncol=2); plt.xlabel('x'); plt.grid()"
   ]
  },
  {
   "cell_type": "markdown",
   "metadata": {
    "slideshow": {
     "slide_type": "slide"
    }
   },
   "source": [
    "### Anwendungsbeispiele\n",
    "#### Symbolische Berechnungen mit CAS\n",
    "\n",
    "* SymPy\n",
    "* Umfangreiches CAS innerhalb der Programmierumgebung\n",
    "* Variablen müssen vor Benutzung deklariert werden"
   ]
  },
  {
   "cell_type": "code",
   "execution_count": 30,
   "metadata": {
    "slideshow": {
     "slide_type": "-"
    }
   },
   "outputs": [
    {
     "data": {
      "image/png": "[encoded data removed]",
      "text/latex": [
       "$\\displaystyle \\frac{T_{1}}{T_{2}} = \\left(\\frac{p_{1}}{p_{2}}\\right)^{\\frac{n - 1}{n}}$"
      ],
      "text/plain": [
       "         n - 1\n",
       "         ─────\n",
       "           n  \n",
       "T₁   ⎛p₁⎞     \n",
       "── = ⎜──⎟     \n",
       "T₂   ⎝p₂⎠     "
      ]
     },
     "execution_count": 30,
     "metadata": {},
     "output_type": "execute_result"
    }
   ],
   "source": [
    "import sympy\n",
    "sympy.init_printing()\n",
    "\n",
    "T1, T2, p1, p2, n = sympy.symbols('T1 T2 p1 p2 n')\n",
    "\n",
    "eq = sympy.Eq(T1/T2, (p1/p2)**((n-1)/n))\n",
    "eq"
   ]
  },
  {
   "cell_type": "markdown",
   "metadata": {
    "slideshow": {
     "slide_type": "slide"
    }
   },
   "source": [
    "### Anwendungsbeispiele\n",
    "#### Symbolische Berechnungen mit CAS\n",
    "\n",
    "* Lösung der gegebenen Gleichung nach dem Polytropenexponenten $n$"
   ]
  },
  {
   "cell_type": "code",
   "execution_count": 31,
   "metadata": {
    "slideshow": {
     "slide_type": "-"
    }
   },
   "outputs": [
    {
     "data": {
      "image/png": "[encoded data removed]",
      "text/latex": [
       "$\\displaystyle \\left[ \\frac{\\log{\\left(\\frac{p_{1}}{p_{2}} \\right)}}{\\log{\\left(\\frac{T_{2} p_{1}}{T_{1} p_{2}} \\right)}}\\right]$"
      ],
      "text/plain": [
       "⎡    ⎛p₁⎞  ⎤\n",
       "⎢ log⎜──⎟  ⎥\n",
       "⎢    ⎝p₂⎠  ⎥\n",
       "⎢──────────⎥\n",
       "⎢   ⎛T₂⋅p₁⎞⎥\n",
       "⎢log⎜─────⎟⎥\n",
       "⎣   ⎝T₁⋅p₂⎠⎦"
      ]
     },
     "execution_count": 31,
     "metadata": {},
     "output_type": "execute_result"
    }
   ],
   "source": [
    "soln = sympy.solve(eq, n)\n",
    "soln"
   ]
  },
  {
   "cell_type": "markdown",
   "metadata": {
    "slideshow": {
     "slide_type": "-"
    }
   },
   "source": [
    "* Numerische Lösung mit Substitution der Variablen durch Werte"
   ]
  },
  {
   "cell_type": "code",
   "execution_count": 32,
   "metadata": {
    "slideshow": {
     "slide_type": "-"
    }
   },
   "outputs": [
    {
     "data": {
      "image/png": "[encoded data removed]",
      "text/latex": [
       "$\\displaystyle 1.29055128243132$"
      ],
      "text/plain": [
       "1.29055128243132"
      ]
     },
     "execution_count": 32,
     "metadata": {},
     "output_type": "execute_result"
    }
   ],
   "source": [
    "soln[0].evalf(subs=dict(T1=273, T2=373, p1=100, p2=400))"
   ]
  }
 ],
 "metadata": {
  "celltoolbar": "Slideshow",
  "kernelspec": {
   "display_name": "Python 3",
   "language": "python",
   "name": "python3"
  },
  "language_info": {
   "codemirror_mode": {
    "name": "ipython",
    "version": 3
   },
   "file_extension": ".py",
   "mimetype": "text/x-python",
   "name": "python",
   "nbconvert_exporter": "python",
   "pygments_lexer": "ipython3",
   "version": "3.8.6"
  }
 },
 "nbformat": 4,
 "nbformat_minor": 1
}
