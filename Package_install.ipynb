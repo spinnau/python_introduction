{
 "cells": [
  {
   "cell_type": "markdown",
   "metadata": {},
   "source": [
    "# Installation von Paketen\n",
    "\n",
    "Dieses Notebook wird genutzt, um im laufenden Notebookserver weitere Pakete für Python und Jupyer zu installieren."
   ]
  },
  {
   "cell_type": "markdown",
   "metadata": {},
   "source": [
    "## Stoffdatenbibliothek CoolProp\n",
    "\n",
    "Die CoolProp Bibliothek ist im Python Package Index (PyPI) verfügbar und kann mit dem Paketmanager `pip` installiert werden.\n",
    "\n",
    "*Hinweis: Bei der Benutzung von Cloud-Diensten muss dies gegebenenfalls vor jeder Benutzung durchgeführt werden.* "
   ]
  },
  {
   "cell_type": "code",
   "execution_count": 1,
   "metadata": {},
   "outputs": [
    {
     "name": "stdout",
     "output_type": "stream",
     "text": [
      "CoolProp (6.1.0)     - Open-source thermodynamic and transport properties\r\n",
      "                       database\r\n",
      "  INSTALLED: 6.1.1.dev0\r\n",
      "  LATEST:    6.1.0\r\n",
      "ThermoPyle (0.7.1)   - Creation of Thermodynamic Surfaces using CoolProp\r\n",
      "engcoolprop (0.1.4)  - EngCoolProp is a python Engineering Units wrapper\r\n",
      "                       around the CoolProp project.\r\n"
     ]
    }
   ],
   "source": [
    "!pip search coolprop"
   ]
  },
  {
   "cell_type": "code",
   "execution_count": null,
   "metadata": {
    "collapsed": true
   },
   "outputs": [],
   "source": [
    "!pip install coolprop"
   ]
  },
  {
   "cell_type": "markdown",
   "metadata": {},
   "source": [
    "## Jupyter Rise Extension (Live Reveal Slideshow)\n",
    "\n",
    "Die Rise Extension für das Jupyter Notebook erlaubt die Anzeige des Arbeitsblattes als Präsentation.\n",
    "\n",
    "Die Zugehörigkeit der einzelnen Zellen zu den Folien kann im Arbeitsblatt eingestellt werden. Der entsprechende Ansichtsmodus kann im Menü unter `View|Cell Toolbar|Slideshow` eingestellt werden.\n",
    "\n",
    "*Hinweis: Im Microsoft Azure Notebooks Cloud-Dienst ist dies bereits vorinstalliert*"
   ]
  },
  {
   "cell_type": "code",
   "execution_count": null,
   "metadata": {
    "collapsed": true
   },
   "outputs": [],
   "source": [
    "!conda search -c damianavila82 rise"
   ]
  },
  {
   "cell_type": "code",
   "execution_count": null,
   "metadata": {
    "collapsed": true
   },
   "outputs": [],
   "source": [
    "!conda install -c damianavila82 rise -y"
   ]
  }
 ],
 "metadata": {
  "kernelspec": {
   "display_name": "Python 3",
   "language": "python",
   "name": "python3"
  },
  "language_info": {
   "codemirror_mode": {
    "name": "ipython",
    "version": 3
   },
   "file_extension": ".py",
   "mimetype": "text/x-python",
   "name": "python",
   "nbconvert_exporter": "python",
   "pygments_lexer": "ipython3",
   "version": "3.7.0"
  }
 },
 "nbformat": 4,
 "nbformat_minor": 1
}
