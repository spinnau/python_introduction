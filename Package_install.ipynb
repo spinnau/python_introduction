{
 "cells": [
  {
   "cell_type": "markdown",
   "metadata": {},
   "source": [
    "# Installation von Paketen\n",
    "\n",
    "Dieses Notebook wird genutzt, um im laufenden Notebookserver weitere Pakete für Python und Jupyer zu installieren."
   ]
  },
  {
   "cell_type": "markdown",
   "metadata": {},
   "source": [
    "## Stoffdatenbibliothek CoolProp\n",
    "\n",
    "Die CoolProp Bibliothek (http://coolprop.org) ist im Python Package Index (PyPI) verfügbar und kann mit dem Paketmanager `pip` installiert werden.\n",
    "\n",
    "*Hinweis: Bei der Benutzung von Cloud-Diensten muss dies gegebenenfalls vor jeder Benutzung durchgeführt werden.* "
   ]
  },
  {
   "cell_type": "code",
   "execution_count": 1,
   "metadata": {},
   "outputs": [
    {
     "name": "stdout",
     "output_type": "stream",
     "text": [
      "CoolProp (6.3.0)      - Open-source thermodynamic and transport properties\r\n",
      "                        database\r\n",
      "  INSTALLED: 6.3.0 (latest)\r\n",
      "ThermoPyle (0.7.2.1)  - Creation of Thermodynamic Surfaces using CoolProp\r\n",
      "engcoolprop (0.1.4)   - EngCoolProp is a python Engineering Units wrapper\r\n",
      "                        around the CoolProp project.\r\n",
      "CoolPlot (0.1.4)      - Create property plots for engineering thermodynamics\r\n",
      "                        using CoolProp as data source.\r\n"
     ]
    }
   ],
   "source": [
    "!pip search coolprop"
   ]
  },
  {
   "cell_type": "code",
   "execution_count": null,
   "metadata": {
    "collapsed": true
   },
   "outputs": [],
   "source": [
    "!pip install coolprop --user"
   ]
  },
  {
   "cell_type": "markdown",
   "metadata": {},
   "source": [
    "## Jupyter Rise Extension (Live Reveal Slideshow)\n",
    "\n",
    "Die Rise Extension (https://rise.readthedocs.io) für das Jupyter Notebook erlaubt die Anzeige des Arbeitsblattes als Präsentation.\n",
    "\n",
    "Die Zugehörigkeit der einzelnen Zellen zu den Folien kann im Arbeitsblatt eingestellt werden. Der entsprechende Ansichtsmodus kann im Menü unter `View|Cell Toolbar|Slideshow` eingestellt werden.\n",
    "\n",
    "*Hinweis: Im Microsoft Azure Notebooks Cloud-Dienst ist dies bereits vorinstalliert*"
   ]
  },
  {
   "cell_type": "code",
   "execution_count": 2,
   "metadata": {},
   "outputs": [
    {
     "name": "stdout",
     "output_type": "stream",
     "text": [
      "rise-set (0.4.12)        - Routines for accurate rise/set/transit calculations\r\n",
      "rise (5.5.1)             - Reveal.js - Jupyter/IPython Slideshow Extension\r\n",
      "risesdk (0.10.0)         - APIs for interacting with the RISE blockchain\r\n",
      "rof-rcon-client (0.2.0)  - RCon client for Rise of Flight dedicated server.\r\n",
      "multi_rise (0.1.2)       - This is a quick shortcut to combine Jupyter\r\n",
      "                           notebooks into a single rise\r\n"
     ]
    }
   ],
   "source": [
    "!pip search RISE"
   ]
  },
  {
   "cell_type": "code",
   "execution_count": null,
   "metadata": {},
   "outputs": [],
   "source": [
    "!pip install RISE --user"
   ]
  }
 ],
 "metadata": {
  "kernelspec": {
   "display_name": "Python 3",
   "language": "python",
   "name": "python3"
  },
  "language_info": {
   "codemirror_mode": {
    "name": "ipython",
    "version": 3
   },
   "file_extension": ".py",
   "mimetype": "text/x-python",
   "name": "python",
   "nbconvert_exporter": "python",
   "pygments_lexer": "ipython3",
   "version": "3.7.4"
  }
 },
 "nbformat": 4,
 "nbformat_minor": 1
}
